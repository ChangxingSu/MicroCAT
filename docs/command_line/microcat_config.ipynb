{
 "cells": [
  {
   "cell_type": "markdown",
   "metadata": {},
   "source": [
    "# `microcat config`"
   ]
  },
  {
   "cell_type": "code",
   "execution_count": 3,
   "metadata": {},
   "outputs": [
    {
     "name": "stdout",
     "output_type": "stream",
     "text": [
      "\u001b[33mUsage: \u001b[0mmicrocat config [OPTIONS]\n",
      "\n",
      "  Quickly adjust microcat's default configurations\n",
      "\n",
      "\u001b[33mOptions\u001b[0m:\n",
      "  \u001b[32m--star_ref PATH\u001b[0m                 STAR reference genome for aligning bulk\n",
      "                                  sequencing data\n",
      "  \u001b[32m--starsolo_ref PATH\u001b[0m             STARsolo reference genome for aligning\n",
      "                                  single and spatial sequencing data\n",
      "  \u001b[32m--cellranger_ref PATH\u001b[0m           Cellranger reference genome for aligning\n",
      "                                  single sequencing data\n",
      "  \u001b[32m--krak2_ref PATH\u001b[0m                Kraken2 reference genome for aligning\n",
      "                                  microbiome data\n",
      "  \u001b[32m--krakuniq_ref PATH\u001b[0m             Samples list, tsv format required.\n",
      "  \u001b[32m--pathseq_ref PATH\u001b[0m              Samples list, tsv format required.\n",
      "  \u001b[32m--download_dir PATH\u001b[0m             Download path for aligning microbiome data\n",
      "  \u001b[32m--metaphlan4_ref PATH\u001b[0m           Samples list, tsv format required.\n",
      "  \u001b[32m--generic_profile [lsf|slurm|pbs]\u001b[0m\n",
      "                                  Samples list, tsv format required.\n",
      "  \u001b[32m-e, --edit [single|bulk|spatial|multi]\u001b[0m\n",
      "                                  Edit config file\n",
      "  \u001b[32m-h, --help\u001b[0m                      Show this message and exit.\n"
     ]
    }
   ],
   "source": [
    "!microcat config -h"
   ]
  }
 ],
 "metadata": {
  "kernelspec": {
   "display_name": "MicroCAT",
   "language": "python",
   "name": "python3"
  },
  "language_info": {
   "codemirror_mode": {
    "name": "ipython",
    "version": 3
   },
   "file_extension": ".py",
   "mimetype": "text/x-python",
   "name": "python",
   "nbconvert_exporter": "python",
   "pygments_lexer": "ipython3",
   "version": "3.8.17"
  }
 },
 "nbformat": 4,
 "nbformat_minor": 2
}
