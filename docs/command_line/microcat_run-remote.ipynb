{
 "cells": [
  {
   "cell_type": "markdown",
   "metadata": {},
   "source": [
    "# `microcat run-remote`"
   ]
  },
  {
   "cell_type": "code",
   "execution_count": 1,
   "metadata": {},
   "outputs": [
    {
     "name": "stdout",
     "output_type": "stream",
     "text": [
      "\u001b[33mUsage: \u001b[0mmicrocat run-remote [OPTIONS]\n",
      "\n",
      "  Execute the analysis workflow on remote cluster mode\n",
      "\n",
      "\u001b[33mOptions\u001b[0m:\n",
      "  \u001b[32m--jobs INTEGER\u001b[0m                  Cluster job numbers, available on '--run-\n",
      "                                  remote'\n",
      "  \u001b[32m--cluster-engine [generic|slurm|sge|lsf|custom]\u001b[0m\n",
      "                                  Cluster workflow manager engine, now support\n",
      "                                  generic\n",
      "  \u001b[32m--local-cores INTEGER\u001b[0m           Local cores, available on '--run-remote'\n",
      "  \u001b[32m--use-conda\u001b[0m                     Use conda environment\n",
      "  \u001b[32m--config TEXT\u001b[0m                   Path of config.yaml\n",
      "  \u001b[32m--conda-prefix TEXT\u001b[0m             Conda environment prefix\n",
      "  \u001b[32m--conda-create-envs-only\u001b[0m        Conda create environments only\n",
      "  \u001b[32m--use-singularity\u001b[0m               Use a singularity container\n",
      "  \u001b[32m--list\u001b[0m                          List rule\n",
      "  \u001b[32m--singularity-prefix TEXT\u001b[0m       Singularity images prefix\n",
      "  \u001b[32m--task TEXT\u001b[0m\n",
      "  \u001b[32m-h, --help\u001b[0m                      Show this message and exit.\n"
     ]
    }
   ],
   "source": [
    "!microcat run-remote -h"
   ]
  }
 ],
 "metadata": {
  "kernelspec": {
   "display_name": "MicroCAT",
   "language": "python",
   "name": "python3"
  },
  "language_info": {
   "codemirror_mode": {
    "name": "ipython",
    "version": 3
   },
   "file_extension": ".py",
   "mimetype": "text/x-python",
   "name": "python",
   "nbconvert_exporter": "python",
   "pygments_lexer": "ipython3",
   "version": "3.8.17"
  }
 },
 "nbformat": 4,
 "nbformat_minor": 2
}
