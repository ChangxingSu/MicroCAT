{
 "cells": [
  {
   "cell_type": "markdown",
   "metadata": {},
   "source": [
    "# `microcat debug`"
   ]
  },
  {
   "cell_type": "code",
   "execution_count": 2,
   "metadata": {},
   "outputs": [
    {
     "name": "stdout",
     "output_type": "stream",
     "text": [
      "\u001b[33mUsage: \u001b[0mmicrocat debug [OPTIONS]\n",
      "\n",
      "  Execute the analysis workflow on debug mode.\n",
      "\n",
      "\u001b[33mOptions\u001b[0m:\n",
      "  \u001b[32m--config TEXT\u001b[0m  Path of config.yaml  [default: ./config.yaml]\n",
      "  \u001b[32m--task TEXT\u001b[0m\n",
      "  \u001b[32m-h, --help\u001b[0m     Show this message and exit.\n"
     ]
    }
   ],
   "source": [
    "!microcat debug -h"
   ]
  }
 ],
 "metadata": {
  "kernelspec": {
   "display_name": "MicroCAT",
   "language": "python",
   "name": "python3"
  },
  "language_info": {
   "codemirror_mode": {
    "name": "ipython",
    "version": 3
   },
   "file_extension": ".py",
   "mimetype": "text/x-python",
   "name": "python",
   "nbconvert_exporter": "python",
   "pygments_lexer": "ipython3",
   "version": "3.8.17"
  }
 },
 "nbformat": 4,
 "nbformat_minor": 2
}
