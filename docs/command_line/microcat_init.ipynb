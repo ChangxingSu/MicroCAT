{
 "cells": [
  {
   "cell_type": "markdown",
   "metadata": {},
   "source": [
    "# `microcat init`"
   ]
  },
  {
   "cell_type": "code",
   "execution_count": 3,
   "metadata": {},
   "outputs": [
    {
     "name": "stdout",
     "output_type": "stream",
     "text": [
      "\u001b[33mUsage: \u001b[0mmicrocat init [OPTIONS] COMMAND [ARGS]...\n",
      "\n",
      "  Init microcat style analysis project\n",
      "\n",
      "\u001b[33mOptions\u001b[0m:\n",
      "  \u001b[32m-h, --help\u001b[0m  Show this message and exit.\n",
      "\n",
      "\u001b[33mCommands\u001b[0m:\n",
      "  \u001b[32mbulk\u001b[0m     Bulk seq microbiome mining pipeline init.\n",
      "  \u001b[32mmulti\u001b[0m    Single-cell RNA-seq microbiome mining pipeline init.\n",
      "  \u001b[32msims\u001b[0m     Simulation\n",
      "  \u001b[32msingle\u001b[0m   Single-cell RNA-seq microbiome mining pipeline init.\n",
      "  \u001b[32mspatial\u001b[0m  Single-cell RNA-seq microbiome mining pipeline init.\n"
     ]
    }
   ],
   "source": [
    "!microcat init -h"
   ]
  },
  {
   "cell_type": "markdown",
   "metadata": {},
   "source": [
    "## `microcat init single`"
   ]
  },
  {
   "cell_type": "code",
   "execution_count": 4,
   "metadata": {},
   "outputs": [
    {
     "name": "stdout",
     "output_type": "stream",
     "text": [
      "\u001b[33mUsage: \u001b[0mmicrocat init single [OPTIONS]\n",
      "\n",
      "  Single-cell RNA-seq microbiome mining pipeline init.\n",
      "\n",
      "  Init 10x Genomics Example:\n",
      "\n",
      "  $ microcat init single --host starsolo --chemistry tenx_auto --classifier\n",
      "  kraken2uniq\n",
      "\n",
      "  Init Smartseq2 Example:\n",
      "\n",
      "  $ microcat init single --host starsolo --chemistry smartseq2 --classifier\n",
      "  kraken2uniq\n",
      "\n",
      "\u001b[33mOptions\u001b[0m:\n",
      "  \u001b[32m-b, --begin [host|classifier|denosing]\u001b[0m\n",
      "                                  Pipeline starting point  [default: host]\n",
      "  \u001b[32m--host [starsolo|cellranger]\u001b[0m    Which hoster used  [default: starsolo]\n",
      "  \u001b[32m--chemistry [smartseq|smartseq2|tenx_3pv1|tenx_3pv2|tenx_3pv3|seqwell|tenx_auto|dropseq|tenx_multiome|tenx_5ppe|seqwell|indrop_v1|indrop_v2|celseq2|cb_umi_simple|cb_umi_complex]\u001b[0m\n",
      "                                  Sequencing chemistry option, required when\n",
      "                                  host is starsolo  [default: tenx_auto]\n",
      "  \u001b[32m--classifier [kraken2uniq|krakenuniq|pathseq|metaphlan]\u001b[0m\n",
      "                                  Which classifier used  [default:\n",
      "                                  kraken2uniq]\n",
      "  \u001b[32m--align [bowtie2|bwa|minimap2|bwa2|mm2plus]\u001b[0m\n",
      "                                  Which align used\n",
      "  \u001b[32m--cellbender\u001b[0m                    Use CellBender for single-cell environment\n",
      "                                  RNA filtering\n",
      "  \u001b[32m--gpu\u001b[0m                           Use GPU for CellBender acceleration (enabled\n",
      "                                  only if --cellbender is true)\n",
      "  \u001b[32m-s, --samples PATH\u001b[0m              Samples list, tsv format required.\n",
      "  \u001b[32m-d, --workdir WORKDIR\u001b[0m           Project workdir\n",
      "  \u001b[32m-p, --project_name PROJECT_NAME\u001b[0m\n",
      "                                  Project name\n",
      "  \u001b[32m-h, --help\u001b[0m                      Show this message and exit.\n"
     ]
    }
   ],
   "source": [
    "!microcat init single -h"
   ]
  },
  {
   "cell_type": "markdown",
   "metadata": {},
   "source": [
    "## `microcat init spatial`"
   ]
  },
  {
   "cell_type": "code",
   "execution_count": 5,
   "metadata": {},
   "outputs": [
    {
     "name": "stdout",
     "output_type": "stream",
     "text": [
      "\u001b[33mUsage: \u001b[0mmicrocat init spatial [OPTIONS]\n",
      "\n",
      "  Single-cell RNA-seq microbiome mining pipeline init.\n",
      "\n",
      "\u001b[33mOptions\u001b[0m:\n",
      "  \u001b[32m--begin [simulate|trimming|host|classifier|denosing]\u001b[0m\n",
      "                                  Pipeline starting point  [default: trimming]\n",
      "  \u001b[32m--host [starsolo|cellranger]\u001b[0m    Which hoster used  [default: starsolo]\n",
      "  \u001b[32m--chemistry [smartseq|smartseq2|tenx_3pv1|tenx_3pv2|tenx_3pv3|seqwell|tenx_auto|dropseq|tenx_multiome|tenx_5ppe|seqwell|celseq2]\u001b[0m\n",
      "                                  Sequencing chemistry option, required when\n",
      "                                  host is starsolo\n",
      "  \u001b[32m--classifier [kraken2uniq|krakenuniq|pathseq|metaphlan]\u001b[0m\n",
      "                                  Which classifier used  [default: pathseq]\n",
      "  \u001b[32m-s, --samples PATH\u001b[0m              Samples list, tsv format required.\n",
      "  \u001b[32m-h, --help\u001b[0m                      Show this message and exit.\n"
     ]
    }
   ],
   "source": [
    "!microcat init spatial -h"
   ]
  }
 ],
 "metadata": {
  "kernelspec": {
   "display_name": "MicroCAT",
   "language": "python",
   "name": "python3"
  },
  "language_info": {
   "codemirror_mode": {
    "name": "ipython",
    "version": 3
   },
   "file_extension": ".py",
   "mimetype": "text/x-python",
   "name": "python",
   "nbconvert_exporter": "python",
   "pygments_lexer": "ipython3",
   "version": "3.8.17"
  }
 },
 "nbformat": 4,
 "nbformat_minor": 2
}
