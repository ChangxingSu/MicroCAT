{
 "cells": [
  {
   "cell_type": "markdown",
   "metadata": {},
   "source": [
    "# `microcat download`"
   ]
  },
  {
   "cell_type": "code",
   "execution_count": 1,
   "metadata": {},
   "outputs": [
    {
     "name": "stdout",
     "output_type": "stream",
     "text": [
      "\u001b[33mUsage: \u001b[0mmicrocat download [OPTIONS] COMMAND [ARGS]...\n",
      "\n",
      "  Download necessary files for running microcat\n",
      "\n",
      "\u001b[33mOptions\u001b[0m:\n",
      "  \u001b[32m-h, --help\u001b[0m  Show this message and exit.\n",
      "\n",
      "\u001b[33mCommands\u001b[0m:\n",
      "  \u001b[32mcellline\u001b[0m   Download cell line per million microbiome reads (rpmm)...\n",
      "  \u001b[32mprofile\u001b[0m    Download profile config from Github\n",
      "  \u001b[32mwhitelist\u001b[0m  Download barcode whitelist for single analysis pipeline\n"
     ]
    }
   ],
   "source": [
    "!microcat download -h"
   ]
  }
 ],
 "metadata": {
  "kernelspec": {
   "display_name": "MicroCAT",
   "language": "python",
   "name": "python3"
  },
  "language_info": {
   "codemirror_mode": {
    "name": "ipython",
    "version": 3
   },
   "file_extension": ".py",
   "mimetype": "text/x-python",
   "name": "python",
   "nbconvert_exporter": "python",
   "pygments_lexer": "ipython3",
   "version": "3.8.17"
  }
 },
 "nbformat": 4,
 "nbformat_minor": 2
}
