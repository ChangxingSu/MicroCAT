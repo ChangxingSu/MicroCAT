{
 "cells": [
  {
   "cell_type": "markdown",
   "metadata": {},
   "source": [
    "# `microcat run-local`"
   ]
  },
  {
   "cell_type": "code",
   "execution_count": 1,
   "metadata": {},
   "outputs": [
    {
     "name": "stdout",
     "output_type": "stream",
     "text": [
      "\u001b[33mUsage: \u001b[0mmicrocat run-local [OPTIONS]\n",
      "\n",
      "  Execute the analysis workflow on local computer mode\n",
      "\n",
      "\u001b[33mOptions\u001b[0m:\n",
      "  \u001b[32m--cores INTEGER\u001b[0m            All job cores, available on 'run-local'\n",
      "  \u001b[32m--config TEXT\u001b[0m              Path of config.yaml\n",
      "  \u001b[32m--wait INTEGER\u001b[0m             Wait given seconds\n",
      "  \u001b[32m--use-conda\u001b[0m                Use conda environment\n",
      "  \u001b[32m--list\u001b[0m                     List\n",
      "  \u001b[32m--conda-prefix TEXT\u001b[0m        Conda environment prefix\n",
      "  \u001b[32m--conda-create-envs-only\u001b[0m   Conda create environments only\n",
      "  \u001b[32m--use-singularity\u001b[0m          Use a singularity container\n",
      "  \u001b[32m--singularity-prefix TEXT\u001b[0m  Singularity images prefix\n",
      "  \u001b[32m--jobs INTEGER\u001b[0m             Job numbers\n",
      "  \u001b[32m--task TEXT\u001b[0m\n",
      "  \u001b[32m-h, --help\u001b[0m                 Show this message and exit.\n"
     ]
    }
   ],
   "source": [
    "!microcat run-local -h"
   ]
  }
 ],
 "metadata": {
  "kernelspec": {
   "display_name": "MicroCAT",
   "language": "python",
   "name": "python3"
  },
  "language_info": {
   "codemirror_mode": {
    "name": "ipython",
    "version": 3
   },
   "file_extension": ".py",
   "mimetype": "text/x-python",
   "name": "python",
   "nbconvert_exporter": "python",
   "pygments_lexer": "ipython3",
   "version": "3.8.17"
  }
 },
 "nbformat": 4,
 "nbformat_minor": 2
}
