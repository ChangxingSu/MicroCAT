{
 "cells": [
  {
   "cell_type": "markdown",
   "metadata": {},
   "source": [
    "# Input files\n",
    "\n",
    "## Overview\n",
    "MicroCAT currently supports fastq files from raw sequencing data and bam files that havebeen mapped to the host genome.\n",
    "\n",
    "* For `fastq` files(from different sequencing platform), MicroCAT starts with qualitycontrol and proceeds with demultiplexing and mapping to the user-provided hostgenome and microbial reference genome. It outputs gene expression data andmicrobial taxonomic data for the host sample.\n",
    "* For `bam` files (output files from processes such as CellRanger, STARsolo, HISAT2,etc.), MicroCAT by default maps the bam files to the microbial reference genome andoutputs microbial taxonomic data for the sample.\n",
    "\n",
    "MicroCAT ultimately outputs microbial taxonomic counts in sparse matrix format and hosttranscriptome counts (if starting from fastq files). It seamlessly integrates with the currentleading single-cell transcriptome analysis toolkits.\n",
    "\n",
    "Thanks to the utilization of starsolo, in principle, Microcat can support sequencing data fromany single-cell transcriptomics platform, particularly\n",
    "\n",
    "- droplet-based (e.g., 10X)\n",
    "- well-based (e.g., Seq-Well)\n",
    "- plate-based (e.g., Smart-Seq)\n",
    "- split-pool-based (e.g., SPLiT-seq)\n",
    "\n",
    "![](./images/platform.png)\n",
    "\n",
    "\n",
    "For convenience, we provide the following pre-configured settings for transcriptomeanalysis. To add additional support for other technologies or for troubleshooting purposes,please submit an issue to our GitHub repository [issues](https://github.com/ChangxingSu/MicroCAT/issues).\n",
    "\n",
    "## Initialize sample metadata file\n",
    "\n",
    "The simplest usage is to initialize with `microcat init -s sample.tsv`\n",
    "\n",
    "The `sample.tsv` file is a crucial input for the Snakemake workflow that is used forprocessing sequencing data. This file contains information about the samples that are to beprocessed, their associated data files, and their corresponding directories. Here’s how to prepare it\n",
    "\n",
    "\n",
    "The sample.tsv file should be a tab-separated value (TSV) file with the following three columns\n",
    "* `id`: The “id” column is a key element in organizing sequencing files effectively usingMicrocat. It should provide information in a specific naming format. For droplet-basedtranscriptomic techniques, the naming format is as follows: `{Patient}_{Tissue}_{Lane}_{Library}`. Each segment of the name should not containa period (“.”).\n",
    "    * `{Patient}`: represents the source patient of the sequencing sample. It can be anyfield and may include multiple underscores. For example, `OSCC_16_T` or `sdsadw_dsagew413dxd-231_2134dsccxc`.\n",
    "    * `{Tissue}`: refers to the sampled tissue from the patient and should be named inthe format “S” followed by several digits, such as `S1` or `S23`.\n",
    "    * `{Lane}`: represents the sequencing lane and should be named in the format Lfollowed by a **three-digit number**. If you are sequencing only one lane, it can benamed L001. However, if you are performing multi-lane sequencing for a singlepatient’s tissue, different lanes should be recorded to distinguish them, such asL003 or L005.\n",
    "    * `{Library}`: is a **three-digit number** used to differentiate sequencing libraryreagents. Typically, we use the same sequencing library preparation scheme and name it as `001`. If you have multiple sequencing libraries, you should use differentnumbers to distinguish them, such as `002` or `003`.\n",
    "\n",
    "* `fq1`: This is the full path to the first fastq file for the sample (usually the file containingthe forward reads). When using starsolo for host transcriptome alignment, the fastq filenames can have any format. However, if you are using cellranger, the fastq file namesshould follow the format: `Sample_S1_{Lane}_R1_{library}.fastq.gz`(See Cellranger tutorial). Here, “Sample” represents the `{Patient}_{Tissue}` information.\n",
    "* `fq2`: This is the full path to the second FastQ file for the sample (usually the filecontaining the reverse reads).When using starsolo for host transcriptome alignment, thefastq file names can have any format. However, if you are using cellranger, the fastqfile names should follow the format: `Sample_S1_{Lane}_R2_{library}.fastq.gz`(See Cellranger tutorial). Here, “Sample” represents the `{Patient}_{Tissue}` information.\n",
    "\n",
    "For plate-based transcriptomic techniques, the naming format is `{Patient}_{Tissue}_{Plate}_{Library}`. In this case, the “Lane” should be transformedinto a **“Plate” naming format**, representing the sequencing plate number.\n",
    "The format for theplate name is “P” followed by a **three-digit number**. If you are sequencing only one lane, it can be named `P001`.\n",
    "\n",
    "\n",
    "![](./images/sample_metadata.png)\n",
    "\n",
    "\n",
    "```{warning}\n",
    "Whether you are using STARsolo or CellRanger, you can input either fastq or fastq.gz compressed format. However, it is important to ensure that the file format of each line in both `fq1` and `fq2` remains consistent.\n",
    "```"
   ]
  }
 ],
 "metadata": {
  "language_info": {
   "name": "python"
  }
 },
 "nbformat": 4,
 "nbformat_minor": 2
}
