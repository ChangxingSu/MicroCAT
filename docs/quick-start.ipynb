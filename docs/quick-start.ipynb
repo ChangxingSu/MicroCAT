{
 "cells": [
  {
   "cell_type": "markdown",
   "metadata": {},
   "source": [
    "# Quick start\n",
    "\n",
    "This guide will walk you through the basic steps to set up and run a MicroCAT analysis pipeline.\n",
    "\n",
    "## 1. Prerequisites\n",
    "\n",
    "*   **MicroCAT Installed:** Ensure MicroCAT is installed and the `microcat` command is available in your terminal.\n",
    "*   **Internet Connection:** Required for downloading necessary files\n",
    "    - barcode whitelists\n",
    "    - Kraken2 database and Host reference genome\n",
    "    - profiles for cluster execution\n",
    "*   **Common Tools:** `wget` and `tar` for downloading and extracting files."
   ]
  },
  {
   "cell_type": "markdown",
   "metadata": {},
   "source": [
    "If you enter `microcat --help` in the terminal and the following information is displayed, it means that MicroCAT has been successfully installed:"
   ]
  },
  {
   "cell_type": "code",
   "execution_count": 4,
   "metadata": {},
   "outputs": [
    {
     "name": "stdout",
     "output_type": "stream",
     "text": [
      "\u001b[33mUsage: \u001b[0mmicrocat [OPTIONS] COMMAND [ARGS]...\n",
      "\n",
      "          ███╗   ███╗██╗ ██████╗██████╗  ██████╗  ██████╗ █████╗ ████████╗\n",
      "          ████╗ ████║██║██╔════╝██╔══██╗██╔═══██╗██╔════╝██╔══██╗╚══██╔══╝\n",
      "          ██╔████╔██║██║██║     ██████╔╝██║   ██║██║     ███████║   ██║\n",
      "          ██║╚██╔╝██║██║██║     ██╔══██╗██║   ██║██║     ██╔══██║   ██║\n",
      "          ██║ ╚═╝ ██║██║╚██████╗██║  ██║╚██████╔╝╚██████╗██║  ██║   ██║\n",
      "          ╚═╝     ╚═╝╚═╝ ╚═════╝╚═╝  ╚═╝ ╚═════╝  ╚═════╝╚═╝  ╚═╝   ╚═╝\n",
      "          Microbiome Identification upon Cell Resolution from Omics-\n",
      "          Computational Analysis Toolbox\n",
      "\n",
      "\u001b[33mOptions\u001b[0m:\n",
      "  \u001b[32m-v, --version\u001b[0m  Show the version and exit.\n",
      "  \u001b[32m-h, --help\u001b[0m     Show this message and exit.\n",
      "\n",
      "\u001b[33mCommands\u001b[0m:\n",
      "  \u001b[32mconfig\u001b[0m      Quickly adjust microcat's default configurations\n",
      "  \u001b[32mdebug\u001b[0m       Execute the analysis workflow on debug mode.\n",
      "  \u001b[32mdownload\u001b[0m    Download necessary files for running microcat\n",
      "  \u001b[32minit\u001b[0m        Init microcat style analysis project\n",
      "  \u001b[32mpath\u001b[0m        Print out microcat install path\n",
      "  \u001b[32mrun-local\u001b[0m   Execute the analysis workflow on local computer mode\n",
      "  \u001b[32mrun-remote\u001b[0m  Execute the analysis workflow on remote cluster mode\n"
     ]
    }
   ],
   "source": [
    "!microcat --help"
   ]
  },
  {
   "cell_type": "markdown",
   "metadata": {},
   "source": [
    "In this tutorial, we mainly use microcat to analyze 10x single-cell RNA-seq data."
   ]
  },
  {
   "cell_type": "markdown",
   "metadata": {},
   "source": [
    "\n",
    "## 2. Initial Setup (One-time or Infrequent)\n",
    "\n",
    "These steps configure MicroCAT with essential data it needs.\n",
    "\n",
    "**a. Download Barcode Whitelists:**\n",
    "MicroCAT uses barcode whitelist files for processing single-cell sequencing data with tools like STARsolo. Download the standard set of whitelists by running:"
   ]
  },
  {
   "cell_type": "markdown",
   "metadata": {},
   "source": [
    "```bash\n",
    "microcat download whitelist\n",
    "```"
   ]
  },
  {
   "cell_type": "markdown",
   "metadata": {},
   "source": [
    "\n",
    "This command downloads and stores the whitelist files in a location managed by the MicroCAT package, making them available for project initialization.\n",
    "\n",
    "**b. Download and Configure Kraken2 Database:**\n",
    "You'll need a Kraken2 database for taxonomic screening. The following commands download the specified database and configure MicroCAT to use it.\n",
    "\n",
    "1.  **Create a directory for your databases** (if you don't have one already). Replace `/path/to/your/databases/` with your preferred location:\n",
    "    ```bash\n",
    "    mkdir -p /path/to/your/databases/kraken2_dbs\n",
    "    ```\n",
    "\n",
    "2.  **Download the Kraken2 database:**\n",
    "    ```bash\n",
    "    wget https://genome-idx.s3.amazonaws.com/kraken/k2_minusb_20250402.tar.gz -P /path/to/your/databases/kraken2_dbs/\n",
    "    ```\n",
    "\n",
    "3.  **Extract the database:**\n",
    "    ```bash\n",
    "    tar -xvzf /path/to/your/databases/kraken2_dbs/k2_minusb_20250402.tar.gz -C /path/to/your/databases/kraken2_dbs/\n",
    "    ```\n",
    "    This will create a directory named `k2_minusb_20250402` (or similar, depending on the archive structure) inside `/path/to/your/databases/kraken2_dbs/`. The actual database files (`hash.k2d`, `opts.k2d`, `taxo.k2d`) will be within this extracted folder.\n",
    "\n",
    "4.  **Update MicroCAT's configuration to point to this database:**\n",
    "    Make sure to use the path to the directory *containing* the database files (e.g., `/path/to/your/databases/kraken2_dbs/k2_minusb_20250402`).\n",
    "    ```bash\n",
    "    microcat config --krak2_ref /path/to/your/databases/kraken2_dbs/k2_minusb_20250402\n",
    "    ```\n",
    "    This command updates MicroCAT's template configuration files. New projects initialized hereafter will use this database path by default. You can similarly configure paths for other reference genomes (e.g., `--starsolo_ref`, `--cellranger_ref`) if needed.\n",
    "\n",
    "**c. (Optional) Download Cluster Profiles:**\n",
    "If you plan to run MicroCAT on a cluster (e.g., Slurm, LSF, SGE), download the relevant Snakemake profile:\n",
    "```bash\n",
    "microcat download profile --cluster your_cluster_type\n",
    "```\n",
    "For example, for Slurm:\n",
    "```bash\n",
    "microcat download profile --cluster slurm\n",
    "```\n",
    "This downloads profile configurations to `~/.config/snakemake/`."
   ]
  },
  {
   "cell_type": "markdown",
   "metadata": {},
   "source": [
    "## 3. Create and Configure a New Project\n",
    "\n",
    "Now, let's set up a specific analysis project.\n",
    "\n",
    "**a. Initialize Project:**\n",
    "Navigate to the directory where you want to create your new project. Then, run the `microcat init` command.\n",
    "\n",
    "*   For a **single-cell RNA-seq project** (e.g., using 10x Genomics 3' v3 chemistry):\n",
    "    ```bash\n",
    "    microcat init single --project MySingleCellProject --chemistry tenx_3pv3\n",
    "    ```\n",
    "*   For a **bulk RNA-seq project**:\n",
    "    ```bash\n",
    "    microcat init bulk --project MyBulkProject --host starsolo\n",
    "    ```\n",
    "\n",
    "    *   Replace `<workflow_type>` (`single` or `bulk`) as appropriate.\n",
    "    *   `--project <project_name>` (e.g., `MySingleCellProject`) defines the name of the new directory that will be created.\n",
    "    *   `--chemistry <chemistry_name>` is crucial for single-cell workflows to correctly configure alignment parameters. You can find available chemistries in MicroCAT's `chemistry_defs.json` file or documentation.\n",
    "    *   `--host <host_aligner>` specifies the host alignment tool (e.g., `starsolo`, `cellranger`).\n",
    "\n",
    "This command creates a new project directory (e.g., `MySingleCellProject/`) containing a `config.yaml` file (pre-filled based on the global settings you configured in Step 2 and the options you provided to `init`) and other necessary subdirectories like `results/`, `logs/`, `envs/`, etc.\n",
    "\n",
    "**b. Prepare Sample Sheet:**\n",
    "Inside your newly created project directory (e.g., `MySingleCellProject/`), you must create a tab-separated values (TSV) file named `sample.tsv`. This file lists your input samples and their corresponding data files.\n",
    "\n",
    "*   **For FASTQ input:**\n",
    "    Required columns: `id`, `fq1`, `fq2` (column `fq2` is for paired-end reads; omit or leave empty for single-end).\n",
    "    *Example `sample.tsv` for paired-end FASTQ:*\n",
    "    ```tsv\n",
    "    id\tfq1\tfq2\n",
    "    PatientA_TumorS1_L001_Lib1\t/full/path/to/data/PatientA_L001_R1.fastq.gz\t/full/path/to/data/PatientA_L001_R2.fastq.gz\n",
    "    PatientB_NormalS2_L001_Lib1\t/full/path/to/data/PatientB_L001_R1.fastq.gz\t/full/path/to/data/PatientB_L001_R2.fastq.gz\n",
    "    ```\n",
    "\n",
    "*   **For BAM input (e.g., from Cell Ranger for single-cell):**\n",
    "    Required columns: `id`, `bam`, `mtx`.\n",
    "    *Example `sample.tsv` for BAM input:*\n",
    "    ```tsv\n",
    "    id\tbam\tmtx\n",
    "    PatientC_TumorS3_P001_Lib1\t/full/path/to/cellranger_output/possorted_genome_bam.bam\t/full/path/to/cellranger_output/filtered_feature_bc_matrix/\n",
    "    ```\n",
    "\n",
    "**Important notes for `sample.tsv`:**\n",
    "*   The `id` column should ideally follow a consistent format, often `{Patient}_{Tissue}_{LaneOrPlate}_{Library}`.\n",
    "*   Ensure all file paths (`fq1`, `fq2`, `bam`, `mtx`) are absolute paths or paths relative to where the pipeline will be executed, and that these files are accessible.\n",
    "\n",
    "**c. (Optional) Customize Project Configuration:**\n",
    "Open the `config.yaml` file located directly within your project directory (e.g., `MySingleCellProject/config.yaml`).\n",
    "You can review and customize various parameters, such as:\n",
    "*   The starting step of the pipeline: `params: begin:`\n",
    "*   Tool-specific options for alignment, classification, etc.\n",
    "*   Resource allocations for specific rules (though often managed by profiles for cluster execution).\n"
   ]
  },
  {
   "cell_type": "markdown",
   "metadata": {},
   "source": [
    "\n",
    "## 4. Run the MicroCAT Pipeline\n",
    "\n",
    "Once your project is set up and configured:\n",
    "\n",
    "1.  **Navigate into your project directory:**\n",
    "    ```bash\n",
    "    cd MySingleCellProject\n",
    "    ```\n",
    "\n",
    "2.  **Execute the pipeline:**\n",
    "\n",
    "    *   **For a local run (on your current machine):**\n",
    "        ```bash\n",
    "        microcat run-local --workflow single\n",
    "        ```\n",
    "        (Use `--workflow bulk` if it's a bulk sequencing project). This command uses the `config.yaml` and `sample.tsv` from the current directory.\n",
    "\n",
    "    *   **For a cluster run (if you downloaded profiles in Step 2c):**\n",
    "        Specify the workflow and the name of the profile you want to use. For example, to run a single-cell workflow using a Slurm profile (assuming a profile named `slurm` exists, typically at `~/.config/snakemake/slurm`):\n",
    "        ```bash\n",
    "        microcat run-remote --workflow single --profile slurm\n",
    "        ```"
   ]
  },
  {
   "cell_type": "markdown",
   "metadata": {},
   "source": [
    "## 5. Output\n",
    "\n",
    "Pipeline results will be generated in the `results/` subdirectory within your project folder. Log files for each step can be found in the `logs/` subdirectory."
   ]
  }
 ],
 "metadata": {
  "kernelspec": {
   "display_name": "MicroCAT",
   "language": "python",
   "name": "python3"
  },
  "language_info": {
   "codemirror_mode": {
    "name": "ipython",
    "version": 3
   },
   "file_extension": ".py",
   "mimetype": "text/x-python",
   "name": "python",
   "nbconvert_exporter": "python",
   "pygments_lexer": "ipython3",
   "version": "3.8.17"
  }
 },
 "nbformat": 4,
 "nbformat_minor": 2
}
