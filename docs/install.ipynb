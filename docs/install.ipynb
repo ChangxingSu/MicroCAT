{
 "cells": [
  {
   "cell_type": "markdown",
   "metadata": {},
   "source": [
    "# Installation\n"
   ]
  },
  {
   "cell_type": "markdown",
   "metadata": {},
   "source": [
    "## Install MicroCAT\n",
    "\n",
    "MicroCAT runs on Python 3.8 and above. We provide several installation methods:\n",
    "\n",
    "\n",
    "### Conda Installation (Recommended)\n",
    "```bash\n",
    "conda create -n MICROCAT -c bioconda microcat\n",
    "```\n",
    "If you don't have conda in your environment, we recommend installing it first. See the [official conda documentation](https://docs.conda.io/projects/conda/en/latest/user-guide/install/) for installation instructions.\n",
    "\n",
    "### Pip Installation\n",
    "Use [pip](https://pip.pypa.io/en/stable/installation/) to quickly install microcat from [PyPI](https://pypi.org/):\n",
    "```bash\n",
    "pip install microcat\n",
    "```\n",
    "Then install the software required to run microcat, or use the '--use-conda' parameter during execution to automatically build the runtime environment (see [microcat's official documentation](https://github.com/zhaofangyuan98/MicroCAT/wiki/MicroCAT-Tutorial)).\n",
    "\n",
    "\n",
    "### Docker Image\n",
    "\n",
    "> Docker image is still under construction, please be patient."
   ]
  },
  {
   "cell_type": "markdown",
   "metadata": {},
   "source": [
    "If you enter `microcat --help` in the terminal and the following information is displayed, it means that MicroCAT has been successfully installed:"
   ]
  },
  {
   "cell_type": "code",
   "execution_count": 1,
   "metadata": {},
   "outputs": [
    {
     "name": "stdout",
     "output_type": "stream",
     "text": [
      "\u001b[33mUsage: \u001b[0mmicrocat [OPTIONS] COMMAND [ARGS]...\n",
      "\n",
      "          ███╗   ███╗██╗ ██████╗██████╗  ██████╗  ██████╗ █████╗ ████████╗\n",
      "          ████╗ ████║██║██╔════╝██╔══██╗██╔═══██╗██╔════╝██╔══██╗╚══██╔══╝\n",
      "          ██╔████╔██║██║██║     ██████╔╝██║   ██║██║     ███████║   ██║\n",
      "          ██║╚██╔╝██║██║██║     ██╔══██╗██║   ██║██║     ██╔══██║   ██║\n",
      "          ██║ ╚═╝ ██║██║╚██████╗██║  ██║╚██████╔╝╚██████╗██║  ██║   ██║\n",
      "          ╚═╝     ╚═╝╚═╝ ╚═════╝╚═╝  ╚═╝ ╚═════╝  ╚═════╝╚═╝  ╚═╝   ╚═╝\n",
      "          Microbiome Identification upon Cell Resolution from Omics-\n",
      "          Computational Analysis Toolbox\n",
      "\n",
      "\u001b[33mOptions\u001b[0m:\n",
      "  \u001b[32m-v, --version\u001b[0m  Show the version and exit.\n",
      "  \u001b[32m-h, --help\u001b[0m     Show this message and exit.\n",
      "\n",
      "\u001b[33mCommands\u001b[0m:\n",
      "  \u001b[32mconfig\u001b[0m      Quickly adjust microcat's default configurations\n",
      "  \u001b[32mdebug\u001b[0m       Execute the analysis workflow on debug mode.\n",
      "  \u001b[32mdownload\u001b[0m    Download necessary files for running microcat\n",
      "  \u001b[32minit\u001b[0m        Init microcat style analysis project\n",
      "  \u001b[32mpath\u001b[0m        Print out microcat install path\n",
      "  \u001b[32mrun-local\u001b[0m   Execute the analysis workflow on local computer mode\n",
      "  \u001b[32mrun-remote\u001b[0m  Execute the analysis workflow on remote cluster mode\n"
     ]
    }
   ],
   "source": [
    "!microcat --help"
   ]
  },
  {
   "cell_type": "markdown",
   "metadata": {},
   "source": [
    "## Installation of tools for host read mapping and counting\n",
    "\n",
    "For the read mapping and UMI counting step microcat offers pre-defined rules for using either Cellranger or STARsolo. Both tools are not available for installation via conda and need to be installed separately. Only one of the tools needs to be installed, depending on the method of choice.\n",
    "* Cellranger: Follow the instructions on the 10xGenomics installation support page to install cellranger and to include it into the PATH. Webpage: https://support.10xgenomics.com/single-cell-gene-expression/software/pipelines/latest/installation\n",
    "* STAR as open source alternative to Cellranger. For installation, follow the instructions in the excellent STAR documentation and include it in your PATH.\n",
    "\n",
    "\n",
    "STAR of version 2.7.9a or above is recommended (2.7.10a is the latest and greatest, as of August'22). The newest update includes the ability to correctly process multi-mapping reads, and adds many important options and bug fixes.\n",
    "\n",
    "In order to use settings that closely mimic those of Cell Ranger v4 or above (see explanations below, particularly --clipAdapterType CellRanger4 option), STAR needs to be re-compiled from source with make STAR CXXFLAGS_SIMD=\"-msse4.2\" (see this issue for more info). If you get the Illegal instruction error, that's what you need to do."
   ]
  },
  {
   "cell_type": "markdown",
   "metadata": {},
   "source": [
    "You can also use the command line to check if `cellranger` has been successfully installed."
   ]
  },
  {
   "cell_type": "code",
   "execution_count": 4,
   "metadata": {},
   "outputs": [
    {
     "name": "stdout",
     "output_type": "stream",
     "text": [
      "\u001b[0mcellranger cellranger-7.1.0\n",
      "\u001b[0m"
     ]
    }
   ],
   "source": [
    "!cellranger --version"
   ]
  },
  {
   "cell_type": "markdown",
   "metadata": {},
   "source": [
    "STARsolo is invoked through the `STAR` command line"
   ]
  },
  {
   "cell_type": "code",
   "execution_count": 5,
   "metadata": {},
   "outputs": [
    {
     "name": "stdout",
     "output_type": "stream",
     "text": [
      "2.7.11b\n"
     ]
    }
   ],
   "source": [
    "!STAR --version"
   ]
  },
  {
   "cell_type": "markdown",
   "metadata": {},
   "source": [
    "```{note}\n",
    "In the workflow of microcat, we assume that users have already added `cellranger` and `STAR` to the environment variables, and use the software by calling the command line of `cellranger` and `STAR`.\n",
    "In the future, microcat will support user-defined software paths, such as calling the software after using module load in a high-performance computing cluster.\n",
    "```"
   ]
  },
  {
   "cell_type": "markdown",
   "metadata": {},
   "source": [
    "\n",
    "## Adapting/Integrating rules in Snakemake\n",
    "Snakemake is a Python-based workflow management system for building and executing pipelines. A pipeline is made up of \"rules\" that represent single steps of the analysis. In a yaml config file parameters and rule-specific input can be adjusted to a new analysis without changing the rules. In a \"master\" snake file the desired end points of the analysis are specified. With the input and the desired output defined, Snakemake is able infer all steps that have to be performed in-between.\n",
    "\n",
    "To change one of the steps, e.g. to a different software tool, one can create a new rule, insert a new code block into the config file, and include the input/output directory of this step in the master snake file. It is important to make sure that the format of the input and output of each rule is compatible with the previous and the subsequent rule. For more detailed information please have a look at the excellent online documentation of Snakemake.\n",
    "<!-- https://github.com/ETH-NEXUS/scAmpi_single_cell_RNA#installation-of-tools-for-initial-read-mapping-and-counting -->"
   ]
  },
  {
   "cell_type": "markdown",
   "metadata": {},
   "source": [
    "## Install snakemake cluster profile"
   ]
  },
  {
   "cell_type": "markdown",
   "metadata": {},
   "source": [
    "Thanks to the organizational characteristics of snakemake itself, users can quickly download the corresponding cluster configuration files and configure and automate the task scheduling system. For details, see the [snakemake documentation](https://snakemake.readthedocs.io/en/v7.20.0/executing/cluster.html)\n",
    " \n",
    "```{note}\n",
    "After snakemake 8.0, the cluster call interface was changed to use the plugin mode. At present, microcat does not yet support this mode, so microcat only adapts to snakemake > 7 <8 versions.\n",
    "```\n",
    "\n",
    "We recommend users to use the [snakemake profile generic](https://github.com/Snakemake-Profiles/generic) profile, which can configure dynamic tasks according to the resource requirements of different task nodes.\n",
    "\n",
    "Users can download the corresponding profile file through `microcat download profile` and configure it.\n"
   ]
  },
  {
   "cell_type": "code",
   "execution_count": 1,
   "metadata": {},
   "outputs": [
    {
     "name": "stdout",
     "output_type": "stream",
     "text": [
      "\u001b[33mUsage: \u001b[0mmicrocat download profile [OPTIONS]\n",
      "\n",
      "  Download profile config from Github\n",
      "\n",
      "  $ microcat download profile --cluster lsf\n",
      "\n",
      "  $ microcat download profile --cluster slurm\n",
      "\n",
      "  $ microcat download profile --cluster sge\n",
      "\n",
      "\u001b[33mOptions\u001b[0m:\n",
      "  \u001b[32m--cluster [slurm|sge|lsf]\u001b[0m  Cluster workflow manager engine, now support\n",
      "                             generic\n",
      "  \u001b[32m-h, --help\u001b[0m                 Show this message and exit.\n"
     ]
    }
   ],
   "source": [
    "!microcat download profile -h"
   ]
  }
 ],
 "metadata": {
  "kernelspec": {
   "display_name": "MicroCAT",
   "language": "python",
   "name": "python3"
  },
  "language_info": {
   "codemirror_mode": {
    "name": "ipython",
    "version": 3
   },
   "file_extension": ".py",
   "mimetype": "text/x-python",
   "name": "python",
   "nbconvert_exporter": "python",
   "pygments_lexer": "ipython3",
   "version": "3.8.17"
  },
  "orig_nbformat": 4
 },
 "nbformat": 4,
 "nbformat_minor": 2
}
