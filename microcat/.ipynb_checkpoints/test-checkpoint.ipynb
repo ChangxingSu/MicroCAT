{
 "cells": [
  {
   "cell_type": "code",
   "execution_count": null,
   "id": "f3e96543-0772-4826-bdf5-949299d71244",
   "metadata": {},
   "outputs": [],
   "source": [
    "#!/usr/bin/env python\n",
    "import argparse\n",
    "# sub-command functions\n",
    "def foo(args):\n",
    "    print(args.x * args.y)\n",
    "\n",
    "def bar(args):\n",
    "    print('((%s))' % args.z)\n",
    "\n",
    "# create the top-level parser\n",
    "parser = argparse.ArgumentParser()\n",
    "subparsers = parser.add_subparsers(required=True)\n",
    "\n",
    "# create the parser for the \"foo\" command\n",
    "parser_foo = subparsers.add_parser('foo')\n",
    "parser_foo.add_argument('-x', type=int, default=1)\n",
    "parser_foo.add_argument('-y', type=int)\n",
    "parser_foo.set_defaults(func=foo)\n",
    "\n",
    "# create the parser for the \"bar\" command\n",
    "parser_bar = subparsers.add_parser('bar')\n",
    "parser_bar.add_argument('z')\n",
    "parser_bar.set_defaults(func=bar)\n",
    "\n",
    "args, unknown = parser.parse_known_args()"
   ]
  }
 ],
 "metadata": {
  "kernelspec": {
   "display_name": "microcat",
   "language": "python",
   "name": "microcat"
  },
  "language_info": {
   "codemirror_mode": {
    "name": "ipython",
    "version": 3
   },
   "file_extension": ".py",
   "mimetype": "text/x-python",
   "name": "python",
   "nbconvert_exporter": "python",
   "pygments_lexer": "ipython3",
   "version": "3.11.0"
  }
 },
 "nbformat": 4,
 "nbformat_minor": 5
}
